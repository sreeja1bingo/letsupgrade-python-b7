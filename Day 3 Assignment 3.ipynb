{
 "cells": [
  {
   "cell_type": "code",
   "execution_count": null,
   "metadata": {},
   "outputs": [],
   "source": []
  },
  {
   "cell_type": "markdown",
   "metadata": {},
   "source": [
    "# QUESTION 1\n",
    "\n",
    "\n",
    "You all are pilots, you have to land a plane,the altitude requied for landing a plane is 1000ft,if it is less than it will tell the pilot to land the plane,or it is more than that less than 5000ft it will ask the pilot to \"come down to 1000ft\",else if it is more than 5000ft ask the pilot to \"go around and try later\""
   ]
  },
  {
   "cell_type": "code",
   "execution_count": 1,
   "metadata": {},
   "outputs": [
    {
     "name": "stdout",
     "output_type": "stream",
     "text": [
      "Enter the value of altitude :4000\n",
      "4000\n",
      "come down to 1000ft\n"
     ]
    }
   ],
   "source": [
    "a = int(input(\"Enter the value of altitude :\"))\n",
    "print(a)\n",
    "if a <= 1000:\n",
    "    print(\"Land the plane\")\n",
    "elif a <=5000:\n",
    "    print(\"come down to 1000ft\")\n",
    "else:\n",
    "    print(\"go around and try later\")"
   ]
  },
  {
   "cell_type": "code",
   "execution_count": null,
   "metadata": {},
   "outputs": [],
   "source": []
  },
  {
   "cell_type": "code",
   "execution_count": null,
   "metadata": {},
   "outputs": [],
   "source": []
  }
 ],
 "metadata": {
  "kernelspec": {
   "display_name": "Python 3",
   "language": "python",
   "name": "python3"
  },
  "language_info": {
   "codemirror_mode": {
    "name": "ipython",
    "version": 3
   },
   "file_extension": ".py",
   "mimetype": "text/x-python",
   "name": "python",
   "nbconvert_exporter": "python",
   "pygments_lexer": "ipython3",
   "version": "3.8.3"
  }
 },
 "nbformat": 4,
 "nbformat_minor": 4
}
